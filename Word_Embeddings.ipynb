{
  "nbformat": 4,
  "nbformat_minor": 0,
  "metadata": {
    "kernelspec": {
      "display_name": "Python 3",
      "language": "python",
      "name": "python3"
    },
    "language_info": {
      "codemirror_mode": {
        "name": "ipython",
        "version": 3
      },
      "file_extension": ".py",
      "mimetype": "text/x-python",
      "name": "python",
      "nbconvert_exporter": "python",
      "pygments_lexer": "ipython3",
      "version": "3.7.1"
    },
    "colab": {
      "provenance": []
    }
  },
  "cells": [
    {
      "cell_type": "markdown",
      "metadata": {
        "id": "NqjfGZoPyuLS"
      },
      "source": [
        "# Word Embeddings"
      ]
    },
    {
      "cell_type": "markdown",
      "metadata": {
        "id": "E_BGRPx5yuLT"
      },
      "source": [
        "> **Embedding mathematically represents a mapping , f: X-> Y, which is a function**. \n",
        "\n",
        "\n",
        "Where the function is\n",
        "\n",
        "•\t**injective** (which is what we call an **injective function** , each Y has a unique X correspondence, and vice versa)\n",
        "\n",
        "•\t**structure-preserving** ( structure preservation , for example, X1 < X2 in the space to which X belongs, then the same applies to Y1 <Y2 in the space to which Y belongs after mapping).\n",
        "\n",
        "> So for word embedding, the word word is mapped to another space, where this mapping has the characteristics of injective and structure-preserving."
      ]
    },
    {
      "cell_type": "markdown",
      "metadata": {
        "id": "tjoWsQGFyuLU"
      },
      "source": [
        "Popular translation can be considered as word embedding, **which is to map the words in the space to which X belongs to a multi-dimensional vector in Y space , then the multi-dimensional vector is equivalent to embedding in the space to which Y belongs** , one carrot and one pit. "
      ]
    },
    {
      "cell_type": "markdown",
      "metadata": {
        "id": "2_ZB0ZhOyuLV"
      },
      "source": [
        "1. Text data needs to be pre-processed into tensor form before it can be input to the neural network.\n",
        "2. The process of dividing text into units is called tokenization, and the unit of division is called tokens.\n",
        "3. Text can be divided into words, characters (abcdefg ...), n-gram and so on.\n",
        "4. Generally use one-hot encoding or word-embedding to process words into numerical tensors.\n",
        "5. One-hot encoding is simple, but without structure, the distance between any two words is √2.\n",
        "6. The word-embedding space has small dimensions, structure in space, similar words are near, and unrelated words are far away.\n",
        "7. The role of the embedding layer can actually be seen as a matrix that maps the points in the high-dimensional space to the low-dimensional space."
      ]
    },
    {
      "cell_type": "markdown",
      "metadata": {
        "id": "dR0h4UOWyuLW"
      },
      "source": [
        "Word embedding is a form of word representation **that connects the human understanding of language to that of the machine**. Word embeddings are the distributed representations of text in an ample dimensional space. By looking at different researches in the area of deep learning, word embeddings are essential. **It is the approach of representing words and documents that may be considered as one of the crucial breakthroughs in the field of deep learning on challenging NLP problems.**\n",
        "\n",
        "Word embeddings are a class of techniques **where the individual word, is represented as a real-valued vector in a vector space**. The main idea is to use a densely distributed representation for all the words.\n",
        "Each word is represented by a real-value vector. Each word is mapped to a single vector, and the vector values are learned in a way that resembles a neural network, and hence the technique is often lumped into the field of deep learning.\n",
        "\n",
        "This is contrasted to the thousands of dimensions required for sparse word representations, such as **One-Hot Encoding**. **They are essential for solving most NLP problems**."
      ]
    },
    {
      "cell_type": "markdown",
      "metadata": {
        "id": "70z-3lMhyuLW"
      },
      "source": [
        "**The neural network cannot train the original text data. We need to process the text data into numerical tensors first. This process is also called text vectorization.**\n",
        "\n",
        "There are several strategies for text vectorization:\n",
        "1. Split text into words, each word is converted into a vector\n",
        "2. Split text into characters, each character is converted into a vector\n",
        "3. Extract n-gram of words or characters n-gram to a vector\n",
        "\n",
        "**The unit into which text is decomposed is called token, and the process of decomposing text into token is called tokenization.**\n",
        "\n",
        "To put it simply, we need to input text data into a neural network and let it train. However, neural networks cannot directly process text data. We need to pre-process text data into a format that the neural network can understand, which is the following process:\n",
        "\n",
        "**Text ----> Participle ----> Vectorization**\n",
        "\n",
        "\n",
        "There are two main methods for word vectorization:\n",
        "1. One-hot encoding\n",
        "2. Word embedding"
      ]
    },
    {
      "cell_type": "markdown",
      "metadata": {
        "id": "W9QEQiVQyuLX"
      },
      "source": [
        "# **One-Hot encoding**\n",
        "\n",
        "**Why is it called one-hot?** \n",
        "\n",
        "**After each word is one-hot encoded, only one position has an element of 1 and the other positions are all 0.**\n",
        "\n",
        "For example, \n",
        "the sentence **\"the boy is crying\"** (assuming there are only four English words in the world), after one-hot encoding,\n",
        "\n",
        "**the corresponds to (1, 0, 0, 0)**\n",
        "\n",
        "**boy corresponds to (0, 1, 0 ， 0）**\n",
        "\n",
        "**is corresponds to (0,0,1,0)**\n",
        "\n",
        "**crying corresponds to (0,0,0,1)**\n",
        "\n",
        "Each word corresponds to a position in the vector, and this position represents the word.\n",
        "\n",
        "But this way requires a very high dimension, because if all vocabularies have 100,000 words, then each word needs to be represented by a vector of length 100,000.\n",
        "\n",
        "**the corresponding to (1, 0, 0, 0, ..., 0) (length is 100,000)**\n",
        "\n",
        "**boy corresponding to (0, 1, 0, 0, ..., 0)**\n",
        "\n",
        "**is corresponding to (0, 0, 1, 0 , ..., 0)**\n",
        "\n",
        "**crying corresponds to (0,0,0,1, ..., 0) to get high-dimensional sparse tensors.**\n",
        "\n",
        "\n"
      ]
    },
    {
      "cell_type": "markdown",
      "metadata": {
        "id": "1ctwBKW9yuLY"
      },
      "source": [
        "![img_credit_tensorflow.org]![one.jpg](data:image/jpeg;base64,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)"
      ]
    },
    {
      "cell_type": "code",
      "source": [
        "from google.colab import drive\n",
        "drive.mount('/content/drive')"
      ],
      "metadata": {
        "colab": {
          "base_uri": "https://localhost:8080/"
        },
        "id": "7tsfC7dUEh89",
        "outputId": "9d60ccc6-8468-4c8e-801b-9b4631b83375"
      },
      "execution_count": null,
      "outputs": [
        {
          "output_type": "stream",
          "name": "stdout",
          "text": [
            "Mounted at /content/drive\n"
          ]
        }
      ]
    },
    {
      "cell_type": "markdown",
      "metadata": {
        "id": "R4K2mc5nyuLY"
      },
      "source": [
        "### Disadvatages of One HotEncoding"
      ]
    },
    {
      "cell_type": "markdown",
      "metadata": {
        "id": "MBQJFYbByuLZ"
      },
      "source": [
        "One-Hot coding is simple and easy to use, the disadvantages are also obvious:\n",
        "\n",
        ">The length of the word vector is equal to the length of the vocabulary, and the word vector is extremely sparse. When the vocabulary is large, the computational complexity will be very large.\n",
        "\n",
        ">Any two words are orthogonal, meaning that the relationship between words cannot be obtained from the One-Hot code\n",
        "\n",
        ">The distance between any two words is equal, and the semantic relevance of the two words cannot be reflected from the distance\n"
      ]
    },
    {
      "cell_type": "markdown",
      "metadata": {
        "id": "7hiSfIqPyuLa"
      },
      "source": [
        "## **Embedding**\n",
        "In contrast, word embedding embeds words into a low-dimensional dense space.\n",
        "\n",
        "For example, the same **\"the boy is crying\"** sentence (assuming that there are only 4 English words in the world), after encoding, it may become:\n",
        "\n",
        "**the corresponding (0.1)**\n",
        "\n",
        "**boy corresponding (0.14)**\n",
        "\n",
        "**is corresponding (0)**\n",
        "\n",
        "**crying corresponding (0.82)**\n",
        "\n",
        "We assume that the embedded space is 256 dimensions (generally 256, 512 or 1024 dimensions, the larger the vocabulary, the higher the corresponding spatial dimension)\n",
        "\n",
        "**Then\n",
        "the corresponding (\n",
        "0.1,\n",
        "0.2, 0.4,\n",
        "0 , ...) (vector length is 256) boy corresponds to (0.23, 0.14, 0, 0 , ...) is corresponding to (0, 0 , 0.41, 0.9, ...) , 0.82, 0, 0.14, ...)**\n",
        "\n",
        "One-hot encoding is very simple, but the spatial dimension is high and for one-hot encoding, the distance between any two words is $$\\sqrt{2}$$.\n",
        "\n",
        " But in practice, the word **(boy) to word (man) should be very close** (because they are closely related), and **the word (cat) to word (stone) should be very far** (because they are basically unrelated).\n",
        "\n",
        "Embedding space has low dimensions and allows space to have structure .\n",
        "\n",
        "For example, the distance between the vectors can reflect gender, age, etc. (this requires training, and the unembedding layer has no structure), for example:\n",
        "\n",
        "**man-woman = boy-girl**\n",
        "\n",
        "**man-daddy = woman-mother**"
      ]
    },
    {
      "cell_type": "markdown",
      "metadata": {
        "id": "5bfuJv-9yuLa"
      },
      "source": [
        "In Keras, the Embedding layer requires two parameters, one is the number of words in the token, and the other is the embedded dimension"
      ]
    },
    {
      "cell_type": "code",
      "metadata": {
        "id": "IF5F9jyCyuLb"
      },
      "source": [
        "from keras.layers import Embedding\n",
        "embedding_layer = Embedding(1000,64)"
      ],
      "execution_count": null,
      "outputs": []
    },
    {
      "cell_type": "markdown",
      "metadata": {
        "id": "2SEy1dnWyuLh"
      },
      "source": [
        "1000 : The length of the token is 1000 (can be considered as the number of all words in the vocabulary)\n",
        "\n",
        "64 : Represents embedded 64-dimensional space (64 attributes can be considered, such as imaginary adult eye shape, nose shape, mouth shape, height, weight, age, etc., together, it is a person (word). A word, a thousand such words means all the words in the vocabulary)\n",
        "\n",
        "Embedding layer input : a two-dimensional tensor with the shape (samples, sequential_length)\n",
        "samples: represent different sentences.\n",
        "sequential_length: represents the number of words in the sentence, each word corresponds to a number, a total of sequential_length words.\n",
        "\n",
        "The output of the embedding layer : a three-dimensional tensor with the shape (samples, sequential_length, dimensionality)\n",
        "samples: Represent different sentences.\n",
        "sequential_length: represents the number of words in a sentence.\n",
        "dimensionality: represents the number of channels. A vector of values ​​on all channels on the same samples and the same sequential_length represents a word, such as (0,0, :) represents a word.\n",
        "\n",
        "The embedding layer can be regarded as a matrix , assuming that the input is (100, 20), 100 sequences of length 20, the vocabulary length is 10000, Embedding (10000, 8), and the output is (100, 20, 8)\n",
        "because After one-hot encoding, each sequence can be regarded as (20, 10000), and the matrix of (10000, 8) is multiplied to get the matrix of (20, 8), so 100 such sequences pass through the embedding layer. Becomes (100, 20, 8)"
      ]
    },
    {
      "cell_type": "code",
      "source": [
        "!pip install Keras==2.3.1\n",
        "!pip install tensorflow==2.2.0"
      ],
      "metadata": {
        "colab": {
          "base_uri": "https://localhost:8080/",
          "height": 1000
        },
        "id": "trC_w6LSkESD",
        "outputId": "dbe34cc9-f3b6-4740-8fea-f71f2caf4cc2"
      },
      "execution_count": null,
      "outputs": [
        {
          "output_type": "stream",
          "name": "stdout",
          "text": [
            "Looking in indexes: https://pypi.org/simple, https://us-python.pkg.dev/colab-wheels/public/simple/\n",
            "Collecting Keras==2.3.1\n",
            "  Downloading Keras-2.3.1-py2.py3-none-any.whl (377 kB)\n",
            "\u001b[K     |████████████████████████████████| 377 kB 9.4 MB/s \n",
            "\u001b[?25hRequirement already satisfied: scipy>=0.14 in /usr/local/lib/python3.8/dist-packages (from Keras==2.3.1) (1.7.3)\n",
            "Requirement already satisfied: h5py in /usr/local/lib/python3.8/dist-packages (from Keras==2.3.1) (3.1.0)\n",
            "Collecting keras-applications>=1.0.6\n",
            "  Downloading Keras_Applications-1.0.8-py3-none-any.whl (50 kB)\n",
            "\u001b[K     |████████████████████████████████| 50 kB 5.6 MB/s \n",
            "\u001b[?25hRequirement already satisfied: pyyaml in /usr/local/lib/python3.8/dist-packages (from Keras==2.3.1) (6.0)\n",
            "Requirement already satisfied: six>=1.9.0 in /usr/local/lib/python3.8/dist-packages (from Keras==2.3.1) (1.15.0)\n",
            "Requirement already satisfied: numpy>=1.9.1 in /usr/local/lib/python3.8/dist-packages (from Keras==2.3.1) (1.21.6)\n",
            "Requirement already satisfied: keras-preprocessing>=1.0.5 in /usr/local/lib/python3.8/dist-packages (from Keras==2.3.1) (1.1.2)\n",
            "Installing collected packages: keras-applications, Keras\n",
            "  Attempting uninstall: Keras\n",
            "    Found existing installation: keras 2.9.0\n",
            "    Uninstalling keras-2.9.0:\n",
            "      Successfully uninstalled keras-2.9.0\n",
            "\u001b[31mERROR: pip's dependency resolver does not currently take into account all the packages that are installed. This behaviour is the source of the following dependency conflicts.\n",
            "tensorflow 2.9.2 requires keras<2.10.0,>=2.9.0rc0, but you have keras 2.3.1 which is incompatible.\u001b[0m\n",
            "Successfully installed Keras-2.3.1 keras-applications-1.0.8\n"
          ]
        },
        {
          "output_type": "display_data",
          "data": {
            "application/vnd.colab-display-data+json": {
              "pip_warning": {
                "packages": [
                  "keras"
                ]
              }
            }
          },
          "metadata": {}
        },
        {
          "output_type": "stream",
          "name": "stdout",
          "text": [
            "Looking in indexes: https://pypi.org/simple, https://us-python.pkg.dev/colab-wheels/public/simple/\n",
            "Collecting tensorflow==2.2.0\n",
            "  Downloading tensorflow-2.2.0-cp38-cp38-manylinux2010_x86_64.whl (516.3 MB)\n",
            "\u001b[K     |████████████████████████████████| 516.3 MB 3.2 kB/s \n",
            "\u001b[?25hCollecting tensorboard<2.3.0,>=2.2.0\n",
            "  Downloading tensorboard-2.2.2-py3-none-any.whl (3.0 MB)\n",
            "\u001b[K     |████████████████████████████████| 3.0 MB 39.7 MB/s \n",
            "\u001b[?25hRequirement already satisfied: wrapt>=1.11.1 in /usr/local/lib/python3.8/dist-packages (from tensorflow==2.2.0) (1.14.1)\n",
            "Requirement already satisfied: google-pasta>=0.1.8 in /usr/local/lib/python3.8/dist-packages (from tensorflow==2.2.0) (0.2.0)\n",
            "Requirement already satisfied: grpcio>=1.8.6 in /usr/local/lib/python3.8/dist-packages (from tensorflow==2.2.0) (1.51.1)\n",
            "Requirement already satisfied: numpy<2.0,>=1.16.0 in /usr/local/lib/python3.8/dist-packages (from tensorflow==2.2.0) (1.21.6)\n",
            "Requirement already satisfied: keras-preprocessing>=1.1.0 in /usr/local/lib/python3.8/dist-packages (from tensorflow==2.2.0) (1.1.2)\n",
            "Requirement already satisfied: opt-einsum>=2.3.2 in /usr/local/lib/python3.8/dist-packages (from tensorflow==2.2.0) (3.3.0)\n",
            "Collecting h5py<2.11.0,>=2.10.0\n",
            "  Downloading h5py-2.10.0-cp38-cp38-manylinux1_x86_64.whl (2.9 MB)\n",
            "\u001b[K     |████████████████████████████████| 2.9 MB 30.7 MB/s \n",
            "\u001b[?25hRequirement already satisfied: protobuf>=3.8.0 in /usr/local/lib/python3.8/dist-packages (from tensorflow==2.2.0) (3.19.6)\n",
            "Requirement already satisfied: termcolor>=1.1.0 in /usr/local/lib/python3.8/dist-packages (from tensorflow==2.2.0) (2.1.1)\n",
            "Requirement already satisfied: six>=1.12.0 in /usr/local/lib/python3.8/dist-packages (from tensorflow==2.2.0) (1.15.0)\n",
            "Collecting gast==0.3.3\n",
            "  Downloading gast-0.3.3-py2.py3-none-any.whl (9.7 kB)\n",
            "Collecting tensorflow-estimator<2.3.0,>=2.2.0\n",
            "  Downloading tensorflow_estimator-2.2.0-py2.py3-none-any.whl (454 kB)\n",
            "\u001b[K     |████████████████████████████████| 454 kB 60.4 MB/s \n",
            "\u001b[?25hRequirement already satisfied: astunparse==1.6.3 in /usr/local/lib/python3.8/dist-packages (from tensorflow==2.2.0) (1.6.3)\n",
            "Collecting scipy==1.4.1\n",
            "  Downloading scipy-1.4.1-cp38-cp38-manylinux1_x86_64.whl (26.0 MB)\n",
            "\u001b[K     |████████████████████████████████| 26.0 MB 1.4 MB/s \n",
            "\u001b[?25hRequirement already satisfied: wheel>=0.26 in /usr/local/lib/python3.8/dist-packages (from tensorflow==2.2.0) (0.38.4)\n",
            "Requirement already satisfied: absl-py>=0.7.0 in /usr/local/lib/python3.8/dist-packages (from tensorflow==2.2.0) (1.3.0)\n",
            "Requirement already satisfied: markdown>=2.6.8 in /usr/local/lib/python3.8/dist-packages (from tensorboard<2.3.0,>=2.2.0->tensorflow==2.2.0) (3.4.1)\n",
            "Requirement already satisfied: setuptools>=41.0.0 in /usr/local/lib/python3.8/dist-packages (from tensorboard<2.3.0,>=2.2.0->tensorflow==2.2.0) (57.4.0)\n",
            "Requirement already satisfied: werkzeug>=0.11.15 in /usr/local/lib/python3.8/dist-packages (from tensorboard<2.3.0,>=2.2.0->tensorflow==2.2.0) (1.0.1)\n",
            "Requirement already satisfied: requests<3,>=2.21.0 in /usr/local/lib/python3.8/dist-packages (from tensorboard<2.3.0,>=2.2.0->tensorflow==2.2.0) (2.23.0)\n",
            "Collecting google-auth<2,>=1.6.3\n",
            "  Downloading google_auth-1.35.0-py2.py3-none-any.whl (152 kB)\n",
            "\u001b[K     |████████████████████████████████| 152 kB 53.1 MB/s \n",
            "\u001b[?25hRequirement already satisfied: tensorboard-plugin-wit>=1.6.0 in /usr/local/lib/python3.8/dist-packages (from tensorboard<2.3.0,>=2.2.0->tensorflow==2.2.0) (1.8.1)\n",
            "Requirement already satisfied: google-auth-oauthlib<0.5,>=0.4.1 in /usr/local/lib/python3.8/dist-packages (from tensorboard<2.3.0,>=2.2.0->tensorflow==2.2.0) (0.4.6)\n",
            "Collecting cachetools<5.0,>=2.0.0\n",
            "  Downloading cachetools-4.2.4-py3-none-any.whl (10 kB)\n",
            "Requirement already satisfied: pyasn1-modules>=0.2.1 in /usr/local/lib/python3.8/dist-packages (from google-auth<2,>=1.6.3->tensorboard<2.3.0,>=2.2.0->tensorflow==2.2.0) (0.2.8)\n",
            "Requirement already satisfied: rsa<5,>=3.1.4 in /usr/local/lib/python3.8/dist-packages (from google-auth<2,>=1.6.3->tensorboard<2.3.0,>=2.2.0->tensorflow==2.2.0) (4.9)\n",
            "Requirement already satisfied: requests-oauthlib>=0.7.0 in /usr/local/lib/python3.8/dist-packages (from google-auth-oauthlib<0.5,>=0.4.1->tensorboard<2.3.0,>=2.2.0->tensorflow==2.2.0) (1.3.1)\n",
            "Requirement already satisfied: importlib-metadata>=4.4 in /usr/local/lib/python3.8/dist-packages (from markdown>=2.6.8->tensorboard<2.3.0,>=2.2.0->tensorflow==2.2.0) (4.13.0)\n",
            "Requirement already satisfied: zipp>=0.5 in /usr/local/lib/python3.8/dist-packages (from importlib-metadata>=4.4->markdown>=2.6.8->tensorboard<2.3.0,>=2.2.0->tensorflow==2.2.0) (3.11.0)\n",
            "Requirement already satisfied: pyasn1<0.5.0,>=0.4.6 in /usr/local/lib/python3.8/dist-packages (from pyasn1-modules>=0.2.1->google-auth<2,>=1.6.3->tensorboard<2.3.0,>=2.2.0->tensorflow==2.2.0) (0.4.8)\n",
            "Requirement already satisfied: chardet<4,>=3.0.2 in /usr/local/lib/python3.8/dist-packages (from requests<3,>=2.21.0->tensorboard<2.3.0,>=2.2.0->tensorflow==2.2.0) (3.0.4)\n",
            "Requirement already satisfied: idna<3,>=2.5 in /usr/local/lib/python3.8/dist-packages (from requests<3,>=2.21.0->tensorboard<2.3.0,>=2.2.0->tensorflow==2.2.0) (2.10)\n",
            "Requirement already satisfied: certifi>=2017.4.17 in /usr/local/lib/python3.8/dist-packages (from requests<3,>=2.21.0->tensorboard<2.3.0,>=2.2.0->tensorflow==2.2.0) (2022.9.24)\n",
            "Requirement already satisfied: urllib3!=1.25.0,!=1.25.1,<1.26,>=1.21.1 in /usr/local/lib/python3.8/dist-packages (from requests<3,>=2.21.0->tensorboard<2.3.0,>=2.2.0->tensorflow==2.2.0) (1.24.3)\n",
            "Requirement already satisfied: oauthlib>=3.0.0 in /usr/local/lib/python3.8/dist-packages (from requests-oauthlib>=0.7.0->google-auth-oauthlib<0.5,>=0.4.1->tensorboard<2.3.0,>=2.2.0->tensorflow==2.2.0) (3.2.2)\n",
            "Installing collected packages: cachetools, google-auth, tensorflow-estimator, tensorboard, scipy, h5py, gast, tensorflow\n",
            "  Attempting uninstall: cachetools\n",
            "    Found existing installation: cachetools 5.2.0\n",
            "    Uninstalling cachetools-5.2.0:\n",
            "      Successfully uninstalled cachetools-5.2.0\n",
            "  Attempting uninstall: google-auth\n",
            "    Found existing installation: google-auth 2.15.0\n",
            "    Uninstalling google-auth-2.15.0:\n",
            "      Successfully uninstalled google-auth-2.15.0\n",
            "  Attempting uninstall: tensorflow-estimator\n",
            "    Found existing installation: tensorflow-estimator 2.9.0\n",
            "    Uninstalling tensorflow-estimator-2.9.0:\n",
            "      Successfully uninstalled tensorflow-estimator-2.9.0\n",
            "  Attempting uninstall: tensorboard\n",
            "    Found existing installation: tensorboard 2.9.1\n",
            "    Uninstalling tensorboard-2.9.1:\n",
            "      Successfully uninstalled tensorboard-2.9.1\n",
            "  Attempting uninstall: scipy\n",
            "    Found existing installation: scipy 1.7.3\n",
            "    Uninstalling scipy-1.7.3:\n",
            "      Successfully uninstalled scipy-1.7.3\n",
            "  Attempting uninstall: h5py\n",
            "    Found existing installation: h5py 3.1.0\n",
            "    Uninstalling h5py-3.1.0:\n",
            "      Successfully uninstalled h5py-3.1.0\n",
            "  Attempting uninstall: gast\n",
            "    Found existing installation: gast 0.4.0\n",
            "    Uninstalling gast-0.4.0:\n",
            "      Successfully uninstalled gast-0.4.0\n",
            "  Attempting uninstall: tensorflow\n",
            "    Found existing installation: tensorflow 2.9.2\n",
            "    Uninstalling tensorflow-2.9.2:\n",
            "      Successfully uninstalled tensorflow-2.9.2\n",
            "\u001b[31mERROR: pip's dependency resolver does not currently take into account all the packages that are installed. This behaviour is the source of the following dependency conflicts.\n",
            "xarray-einstats 0.3.0 requires scipy>=1.5, but you have scipy 1.4.1 which is incompatible.\n",
            "plotnine 0.8.0 requires scipy>=1.5.0, but you have scipy 1.4.1 which is incompatible.\n",
            "jaxlib 0.3.25+cuda11.cudnn805 requires scipy>=1.5, but you have scipy 1.4.1 which is incompatible.\n",
            "jax 0.3.25 requires scipy>=1.5, but you have scipy 1.4.1 which is incompatible.\u001b[0m\n",
            "Successfully installed cachetools-4.2.4 gast-0.3.3 google-auth-1.35.0 h5py-2.10.0 scipy-1.4.1 tensorboard-2.2.2 tensorflow-2.2.0 tensorflow-estimator-2.2.0\n"
          ]
        },
        {
          "output_type": "display_data",
          "data": {
            "application/vnd.colab-display-data+json": {
              "pip_warning": {
                "packages": [
                  "gast",
                  "google",
                  "h5py",
                  "scipy",
                  "tensorboard",
                  "tensorflow"
                ]
              }
            }
          },
          "metadata": {}
        }
      ]
    },
    {
      "cell_type": "code",
      "metadata": {
        "id": "ptRi7XJiyuLi",
        "outputId": "33253e45-c38c-46ae-8a1e-2c04990c3a9f",
        "colab": {
          "base_uri": "https://localhost:8080/"
        }
      },
      "source": [
        "#Instantiate an Embedding layer\n",
        "\n",
        "from keras.models import Sequential\n",
        "from keras.layers import Flatten,Dense,Embedding\n",
        "\n",
        "model = Sequential()\n",
        "model.add(Embedding(10000,8,input_length=20))\n",
        "model.add(Flatten())\n",
        "model.add(Dense(1,activation='sigmoid'))\n",
        "model.summary()"
      ],
      "execution_count": null,
      "outputs": [
        {
          "output_type": "stream",
          "name": "stderr",
          "text": [
            "Using TensorFlow backend.\n"
          ]
        },
        {
          "output_type": "stream",
          "name": "stdout",
          "text": [
            "Model: \"sequential_1\"\n",
            "_________________________________________________________________\n",
            "Layer (type)                 Output Shape              Param #   \n",
            "=================================================================\n",
            "embedding_1 (Embedding)      (None, 20, 8)             80000     \n",
            "_________________________________________________________________\n",
            "flatten_1 (Flatten)          (None, 160)               0         \n",
            "_________________________________________________________________\n",
            "dense_1 (Dense)              (None, 1)                 161       \n",
            "=================================================================\n",
            "Total params: 80,161\n",
            "Trainable params: 80,161\n",
            "Non-trainable params: 0\n",
            "_________________________________________________________________\n"
          ]
        }
      ]
    },
    {
      "cell_type": "code",
      "metadata": {
        "id": "dH7eqsf_yuLl",
        "outputId": "9fd2772a-98d7-47ae-fa28-71af08770417",
        "colab": {
          "base_uri": "https://localhost:8080/"
        }
      },
      "source": [
        "from keras.datasets import imdb\n",
        "from keras import preprocessing\n",
        "from keras.models import Sequential\n",
        "from keras.layers import Flatten,Dense,Embedding\n",
        "#from keras_preprocessing.sequence import pad_sequences\n",
        "\n",
        "max_features = 10000\n",
        "maxlen = 20\n",
        "\n",
        "(x_train,y_train),(x_test,y_test) = imdb.load_data(num_words=10000)\n",
        "#(train_data, train_labels), (test_data, test_labels) = imdb.load_data(num_words=10000)\n",
        "\n",
        "x_train = preprocessing.sequence.pad_sequences(x_train,maxlen=maxlen)\n",
        "x_test = preprocessing.sequence.pad_sequences(x_test,maxlen=maxlen)\n",
        "\n",
        "\n",
        "model = Sequential()\n",
        "\n",
        "model.add(Embedding(10000,8,input_length=maxlen))\n",
        "model.add(Flatten())\n",
        "model.add(Dense(1,activation='sigmoid'))\n"
      ],
      "execution_count": null,
      "outputs": [
        {
          "output_type": "stream",
          "name": "stderr",
          "text": [
            "/usr/local/lib/python3.8/dist-packages/keras/datasets/imdb.py:101: VisibleDeprecationWarning: Creating an ndarray from ragged nested sequences (which is a list-or-tuple of lists-or-tuples-or ndarrays with different lengths or shapes) is deprecated. If you meant to do this, you must specify 'dtype=object' when creating the ndarray.\n",
            "  x_train, y_train = np.array(xs[:idx]), np.array(labels[:idx])\n",
            "/usr/local/lib/python3.8/dist-packages/keras/datasets/imdb.py:102: VisibleDeprecationWarning: Creating an ndarray from ragged nested sequences (which is a list-or-tuple of lists-or-tuples-or ndarrays with different lengths or shapes) is deprecated. If you meant to do this, you must specify 'dtype=object' when creating the ndarray.\n",
            "  x_test, y_test = np.array(xs[idx:]), np.array(labels[idx:])\n"
          ]
        }
      ]
    },
    {
      "cell_type": "code",
      "source": [
        "##Label Encoding is already applied\n",
        "x_train"
      ],
      "metadata": {
        "colab": {
          "base_uri": "https://localhost:8080/"
        },
        "id": "CGGo4Hnvk0J_",
        "outputId": "f01ae5ae-16d2-446d-be4c-23717a7afe48"
      },
      "execution_count": null,
      "outputs": [
        {
          "output_type": "execute_result",
          "data": {
            "text/plain": [
              "array([[  65,   16,   38, ...,   19,  178,   32],\n",
              "       [  23,    4, 1690, ...,   16,  145,   95],\n",
              "       [1352,   13,  191, ...,    7,  129,  113],\n",
              "       ...,\n",
              "       [  11, 1818, 7561, ...,    4, 3586,    2],\n",
              "       [  92,  401,  728, ...,   12,    9,   23],\n",
              "       [ 764,   40,    4, ...,  204,  131,    9]], dtype=int32)"
            ]
          },
          "metadata": {},
          "execution_count": 3
        }
      ]
    },
    {
      "cell_type": "code",
      "source": [
        "x_test"
      ],
      "metadata": {
        "colab": {
          "base_uri": "https://localhost:8080/"
        },
        "id": "7iUyoVxLk22M",
        "outputId": "1c7a9cdb-dde5-4a7a-eb85-49b9f26f1842"
      },
      "execution_count": null,
      "outputs": [
        {
          "output_type": "execute_result",
          "data": {
            "text/plain": [
              "array([[ 286,  170,    8, ...,   14,    6,  717],\n",
              "       [  10,   10,  472, ...,  125,    4, 3077],\n",
              "       [  34,    2,   45, ...,    9,   57,  975],\n",
              "       ...,\n",
              "       [ 226,   20,  272, ...,   21,  846, 5518],\n",
              "       [  55,  117,  212, ..., 2302,    7,  470],\n",
              "       [  19,   14,   20, ...,   34, 2005, 2643]], dtype=int32)"
            ]
          },
          "metadata": {},
          "execution_count": 4
        }
      ]
    },
    {
      "cell_type": "code",
      "metadata": {
        "id": "--uzhSSayuLp",
        "outputId": "b0ffd846-545c-4cba-d8d7-7ab4a815bebe",
        "colab": {
          "base_uri": "https://localhost:8080/"
        }
      },
      "source": [
        "model.compile(optimizer='rmsprop',loss='binary_crossentropy',metrics=['acc'])\n",
        "history = model.fit(x_train,y_train,epochs=10,batch_size=32,validation_split=0.2,verbose=1)"
      ],
      "execution_count": null,
      "outputs": [
        {
          "output_type": "stream",
          "name": "stderr",
          "text": [
            "/usr/local/lib/python3.8/dist-packages/tensorflow/python/framework/indexed_slices.py:433: UserWarning: Converting sparse IndexedSlices to a dense Tensor of unknown shape. This may consume a large amount of memory.\n",
            "  warnings.warn(\n"
          ]
        },
        {
          "output_type": "stream",
          "name": "stdout",
          "text": [
            "Train on 20000 samples, validate on 5000 samples\n",
            "Epoch 1/10\n",
            "20000/20000 [==============================] - 2s 96us/step - loss: 0.6802 - acc: 0.5900 - val_loss: 0.6486 - val_acc: 0.6764\n",
            "Epoch 2/10\n",
            "20000/20000 [==============================] - 2s 87us/step - loss: 0.5736 - acc: 0.7394 - val_loss: 0.5479 - val_acc: 0.7218\n",
            "Epoch 3/10\n",
            "20000/20000 [==============================] - 2s 79us/step - loss: 0.4765 - acc: 0.7838 - val_loss: 0.5082 - val_acc: 0.7418\n",
            "Epoch 4/10\n",
            "20000/20000 [==============================] - 2s 82us/step - loss: 0.4253 - acc: 0.8095 - val_loss: 0.4968 - val_acc: 0.7470\n",
            "Epoch 5/10\n",
            "20000/20000 [==============================] - 2s 76us/step - loss: 0.3917 - acc: 0.8262 - val_loss: 0.4982 - val_acc: 0.7524\n",
            "Epoch 6/10\n",
            "20000/20000 [==============================] - 1s 68us/step - loss: 0.3651 - acc: 0.8421 - val_loss: 0.5023 - val_acc: 0.7496\n",
            "Epoch 7/10\n",
            "20000/20000 [==============================] - 2s 76us/step - loss: 0.3427 - acc: 0.8540 - val_loss: 0.5084 - val_acc: 0.7466\n",
            "Epoch 8/10\n",
            "20000/20000 [==============================] - 2s 76us/step - loss: 0.3216 - acc: 0.8661 - val_loss: 0.5177 - val_acc: 0.7474\n",
            "Epoch 9/10\n",
            "20000/20000 [==============================] - 1s 75us/step - loss: 0.3024 - acc: 0.8782 - val_loss: 0.5270 - val_acc: 0.7414\n",
            "Epoch 10/10\n",
            "20000/20000 [==============================] - 2s 76us/step - loss: 0.2844 - acc: 0.8870 - val_loss: 0.5371 - val_acc: 0.7432\n"
          ]
        }
      ]
    },
    {
      "cell_type": "markdown",
      "metadata": {
        "id": "uoHp5o9TyuLt"
      },
      "source": [
        "#### It can be seen that in the embedding layer, we need to train 8 times 10000 = 80,000 parameters. Each row in the trained embedding layer represents a vector of words.\n",
        "\n",
        ">Use the Embedding layer and classifier on IMDB data.\n",
        "\n",
        ">The imdb data set built in keras has classified positive and negative evaluations and vectorized evaluation content. We use the Embedding layer and classifier to train a neural network. How well did it perform.\n"
      ]
    },
    {
      "cell_type": "code",
      "metadata": {
        "id": "Vk7-H5FpyuLu"
      },
      "source": [],
      "execution_count": null,
      "outputs": []
    },
    {
      "cell_type": "markdown",
      "metadata": {
        "id": "JqyQ54_kyuL0"
      },
      "source": [
        "#### Draw a picture and observe a wave carefully:"
      ]
    },
    {
      "cell_type": "code",
      "metadata": {
        "id": "lk_C-IpVyuL1",
        "outputId": "c8ca8d99-e1c0-4a6e-a284-fb3cf0d58502"
      },
      "source": [
        "import matplotlib.pyplot as plt\n",
        "\n",
        "acc=history.history['acc']\n",
        "val_acc=history.history['val_acc']\n",
        "loss=history.history['loss']\n",
        "val_loss=history.history['val_loss']\n",
        "\n",
        "epochs=range(1,len(acc)+1)\n",
        "\n",
        "plt.plot(epochs,acc,'bo',label='acc')\n",
        "plt.plot(epochs,val_acc,'b',label='val_acc')\n",
        "plt.legend()\n",
        "\n",
        "plt.figure()\n",
        "plt.plot(epochs,loss,'bo',label='loss')\n",
        "plt.plot(epochs,val_loss,'b',label='val_loss')\n",
        "plt.legend()\n",
        "\n",
        "plt.show()"
      ],
      "execution_count": null,
      "outputs": [
        {
          "output_type": "display_data",
          "data": {
            "image/png": "[encoded data removed]",
            "text/plain": [
              "<Figure size 432x288 with 1 Axes>"
            ]
          },
          "metadata": {
            "tags": [],
            "needs_background": "light"
          }
        },
        {
          "output_type": "display_data",
          "data": {
            "image/png": "[encoded data removed]",
            "text/plain": [
              "<Figure size 432x288 with 1 Axes>"
            ]
          },
          "metadata": {
            "tags": [],
            "needs_background": "light"
          }
        }
      ]
    },
    {
      "cell_type": "markdown",
      "metadata": {
        "id": "q_9w0BPMyuL4"
      },
      "source": [
        "#### It can be seen that the verification accuracy is about 75%."
      ]
    },
    {
      "cell_type": "markdown",
      "metadata": {
        "id": "Lf3CNxioyuL4"
      },
      "source": [
        "# BOW"
      ]
    },
    {
      "cell_type": "markdown",
      "metadata": {
        "id": "P53EmPynyuL5"
      },
      "source": [
        "**Bag-of-words model is a commonly used document representation method in the field of information retrieval .**\n",
        "\n",
        ">In information retrieval, the BOW model assumes that for a document, it ignores its word order, grammar, syntax and other factors, and treats it as a collection of several words. The appearance of each word in the document is independent and independent of whether other words appear. **(It's out of order)**\n",
        "\n",
        ">The Bag-of-words model (BoW model) ignores the grammar and word order of a text, and uses a set of unordered words to express a text or a document.\n",
        "\n",
        "#### Let's take an example\n",
        "\n",
        "`John likes to watch movies. Mary likes too.`\n",
        "\n",
        "`John also likes to watch football games.`\n",
        "\n",
        "Build a dictionary based on the words that appear in the above two sentences:\n",
        "\n",
        "`{\"John\": 1, \"likes\": 2, \"to\": 3, \"watch\": 4, \"movies\": 5, \"also\": 6, \"football\": 7, \"games\": 8, \"Mary\": 9, \"too\": 10}`\n",
        "\n",
        "\n",
        "The dictionary contains 10 words, each word has a unique index. Note that their order is not related to the order in which they appear in the sentence. According to this dictionary, we re-express the above two sentences into the following two vectors:\n",
        "\n",
        "`[1, 2, 1, 1, 1, 0, 0, 0, 1, 1]`\n",
        "\n",
        "`[1, 1, 1, 1, 0, 1, 1, 1, 0, 0]`\n",
        "\n",
        "\n",
        "These two vectors contain a total of 10 elements, where the i-th element represents the number of times the i-th word in the dictionary appears in the sentence. \n",
        "\n",
        "Now imagine a **huge document set D with a total of M documents**. After all the words in the document are extracted, they form a dictionary containing N words. Using the Bag-of-words model, **each document can be represented as an N-dimensional vector**.\n",
        "\n",
        "\n",
        "Therefore, the BoW model can be considered as a statistical histogram. It is used in text retrieval and processing applications."
      ]
    },
    {
      "cell_type": "markdown",
      "metadata": {
        "id": "bU0XAU4qyuL5"
      },
      "source": [
        "## TF-IDF"
      ]
    },
    {
      "cell_type": "markdown",
      "metadata": {
        "id": "Zk0Eg4qdyuL6"
      },
      "source": [
        "**TF-IDF (Term Frequency-Inverse Document Frequency)**, a commonly used weighting technique for information retrieval and information exploration.\n",
        "\n",
        "TF-IDF is a statistical method used to evaluate the importance of a word to a file set or a file in a corpus. The importance of the word increases in proportion to the number of times it appears in the file, but at the same time decreases inversely with the frequency of its appearance in the corpus.\n",
        "\n",
        "* **Term frequency TF (item frequency)**: number of times a given word appears in the text. This number is usually normalized (the numerator is generally smaller than the denominator) to prevent it from favoring long documents, because whether the term is important or not, it is likely to appear more often in long documents than in paragraph documents.\n",
        "\n",
        "> **TF(t) = (Number of times term t appears in a document) / (Total number of terms in the document).**\n",
        "\n",
        "Term frequency (TF) indicates how often a term (keyword) appears in the text .\n",
        "\n",
        "This number is usually normalized (usually the word frequency divided by the total number of words in the article) to prevent it from favoring long documents."
      ]
    },
    {
      "cell_type": "markdown",
      "metadata": {
        "id": "sIJIuSpMyuL7"
      },
      "source": [
        "**Formula of Tf**    ![title](img/tf.png)\n",
        "\n",
        "\n",
        "where  ni, j  is the number of occurrences of the word in the file  dj  , and the denominator is the sum of the occurrences of all words in the file dj;"
      ]
    },
    {
      "cell_type": "markdown",
      "metadata": {
        "id": "CVP7FEGoyuL7"
      },
      "source": []
    },
    {
      "cell_type": "markdown",
      "metadata": {
        "id": "eJzZpE-JyuL8"
      },
      "source": []
    },
    {
      "cell_type": "markdown",
      "metadata": {
        "id": "6Dwu6mPKyuL8"
      },
      "source": [
        "* **Inverse document frequency (IDF)**: A measure of the general importance of a word. The main idea is that if there are fewer documents containing the entry t and the larger, it means that the entry has a good ability to distinguish categories. The IDF of a specific word can be calculated by dividing the total number of files by the number of files containing the word, and then taking the log of the obtained quotient.\n",
        "\n",
        ">**IDF(t) = log_e(Total number of documents / Number of documents with term t in it).**"
      ]
    },
    {
      "cell_type": "markdown",
      "metadata": {
        "id": "T26bTkv0yuL9"
      },
      "source": [
        "**Formula of Idf**  ![title](img/idf1.png)\n",
        "\n",
        "\n",
        "among them\n",
        "\n",
        "* | D |: Total number of files in the corpus\n",
        "\n",
        "* |  {  $j: $t_{i}$ \\in $d_{j} $$  }  | : The number of files containing words $t_{i}$ ( $n_{i,j}$ $\\neq$ 0 , the number of files). If the word is not in the corpus, it will cause the dividend to be zero, so it is generally used.1 + |  {  $j :$t_{i}$ \\in $d_{j}$$  }  |.\n",
        "\n",
        "\n",
        "**So, Formula of tf-Idf** ![title](img/ttttt.png)"
      ]
    },
    {
      "cell_type": "markdown",
      "metadata": {
        "id": "0n2YUwi1yuL-"
      },
      "source": [
        "#### Example:\n",
        "\n",
        "Consider a document containing 100 words where in the word cat appears 3 times. \n",
        "\n",
        "The **term frequency (Tf) for cat** is then **(3 / 100) = 0.03**. Now, assume we have 10 million documents and the word cat appears in one thousand of these.\n",
        "\n",
        "Then, the **inverse document frequency (Idf)** is calculated as **log(10,000,000 / 1,000) = 4.** \n",
        "\n",
        "Thus, the **Tf-idf** weight is the product of these quantities: **0.03 * 4 = 0.12.**"
      ]
    },
    {
      "cell_type": "markdown",
      "metadata": {
        "id": "tGd8-mdVyuMA"
      },
      "source": [
        "#### TF-IDF application\n",
        "\n",
        "1.  **Search engine**\n",
        "2.  **Keyword extraction**\n",
        "3.  **Text similarity**\n",
        "4.  **Text summary**"
      ]
    },
    {
      "cell_type": "markdown",
      "metadata": {
        "id": "AScJZdWYyuMB"
      },
      "source": [
        "## Code Implementation"
      ]
    },
    {
      "cell_type": "markdown",
      "metadata": {
        "id": "n3sOgkIoyuMB"
      },
      "source": [
        "### Python3 implements TF-IDF algorithm"
      ]
    },
    {
      "cell_type": "code",
      "metadata": {
        "id": "stTIGcpayuMC",
        "outputId": "2069fa61-16dd-4bc2-d92e-93cb6f869c65"
      },
      "source": [
        "\n",
        "from collections import defaultdict\n",
        "import math\n",
        "import operator\n",
        " \n",
        "\n",
        "def loadDataSet():\n",
        "    dataset = [ ['my', 'dog', 'has', 'flea', 'problems', 'help', 'please'],    \n",
        "                   ['maybe', 'not', 'take', 'him', 'to', 'dog', 'park', 'stupid'],\n",
        "                   ['my', 'dalmation', 'is', 'so', 'cute', 'I', 'love', 'him'],\n",
        "                   ['stop', 'posting', 'stupid', 'worthless', 'garbage'],\n",
        "                   ['mr', 'licks', 'ate', 'my', 'steak', 'how', 'to', 'stop', 'him'],\n",
        "                   ['quit', 'buying', 'worthless', 'dog', 'food', 'stupid'] ]\n",
        "    classVec = [0, 1, 0, 1, 0, 1]  \n",
        "    return dataset, classVec\n",
        " \n",
        "\n",
        "def feature_select(list_words):\n",
        "    \n",
        "    doc_frequency=defaultdict(int)\n",
        "    for word_list in list_words:\n",
        "        for i in word_list:\n",
        "            doc_frequency[i]+=1\n",
        " \n",
        "    \n",
        "    word_tf={}  \n",
        "    for i in doc_frequency:\n",
        "        word_tf[i]=doc_frequency[i]/sum(doc_frequency.values())\n",
        " \n",
        "    \n",
        "    doc_num=len(list_words)\n",
        "    word_idf={} \n",
        "    word_doc=defaultdict(int) \n",
        "    for i in doc_frequency:\n",
        "        for j in list_words:\n",
        "            if i in j:\n",
        "                word_doc[i]+=1\n",
        "    for i in doc_frequency:\n",
        "        word_idf[i]=math.log(doc_num/(word_doc[i]+1))\n",
        " \n",
        "    \n",
        "    word_tf_idf={}\n",
        "    for i in doc_frequency:\n",
        "        word_tf_idf[i]=word_tf[i]*word_idf[i]\n",
        " \n",
        "    \n",
        "    dict_feature_select=sorted(word_tf_idf.items(),key=operator.itemgetter(1),reverse=True)\n",
        "    return dict_feature_select\n",
        " \n",
        "if __name__=='__main__':\n",
        "    data_list,label_list=loadDataSet() \n",
        "    features=feature_select(data_list) \n",
        "    print(features)\n",
        "    print(len(features))"
      ],
      "execution_count": null,
      "outputs": [
        {
          "output_type": "stream",
          "text": [
            "[('to', 0.0322394037469742), ('stop', 0.0322394037469742), ('worthless', 0.0322394037469742), ('my', 0.028288263356383563), ('dog', 0.028288263356383563), ('him', 0.028288263356383563), ('stupid', 0.028288263356383563), ('has', 0.025549122992281622), ('flea', 0.025549122992281622), ('problems', 0.025549122992281622), ('help', 0.025549122992281622), ('please', 0.025549122992281622), ('maybe', 0.025549122992281622), ('not', 0.025549122992281622), ('take', 0.025549122992281622), ('park', 0.025549122992281622), ('dalmation', 0.025549122992281622), ('is', 0.025549122992281622), ('so', 0.025549122992281622), ('cute', 0.025549122992281622), ('I', 0.025549122992281622), ('love', 0.025549122992281622), ('posting', 0.025549122992281622), ('garbage', 0.025549122992281622), ('mr', 0.025549122992281622), ('licks', 0.025549122992281622), ('ate', 0.025549122992281622), ('steak', 0.025549122992281622), ('how', 0.025549122992281622), ('quit', 0.025549122992281622), ('buying', 0.025549122992281622), ('food', 0.025549122992281622)]\n",
            "32\n"
          ],
          "name": "stdout"
        }
      ]
    },
    {
      "cell_type": "code",
      "metadata": {
        "id": "WB-5ItW_yuMF",
        "outputId": "42909384-1ae5-406a-a2fc-9fd6dd8c92c6"
      },
      "source": [
        "!pip install nltk"
      ],
      "execution_count": null,
      "outputs": [
        {
          "output_type": "stream",
          "text": [
            "Collecting nltk\n",
            "  Using cached https://files.pythonhosted.org/packages/f6/1d/d925cfb4f324ede997f6d47bea4d9babba51b49e87a767c170b77005889d/nltk-3.4.5.zip\n",
            "Requirement already satisfied: six in c:\\users\\soura\\anaconda3\\envs\\tensor\\lib\\site-packages (from nltk) (1.12.0)\n",
            "Building wheels for collected packages: nltk\n",
            "  Building wheel for nltk (setup.py): started\n",
            "  Building wheel for nltk (setup.py): finished with status 'done'\n",
            "  Stored in directory: C:\\Users\\soura\\AppData\\Local\\pip\\Cache\\wheels\\96\\86\\f6\\68ab24c23f207c0077381a5e3904b2815136b879538a24b483\n",
            "Successfully built nltk\n",
            "Installing collected packages: nltk\n",
            "Successfully installed nltk-3.4.5\n"
          ],
          "name": "stdout"
        }
      ]
    },
    {
      "cell_type": "markdown",
      "metadata": {
        "id": "CXNYTNgYyuMI"
      },
      "source": [
        "### NLTK implements the TF-IDF algorithm"
      ]
    },
    {
      "cell_type": "code",
      "metadata": {
        "id": "YCjMMcmWyuMI",
        "outputId": "827eb657-f83a-4628-83c6-d7f022bec034"
      },
      "source": [
        "from nltk.text import TextCollection\n",
        "from nltk.tokenize import word_tokenize\n",
        " \n",
        "sents=['this is sentence one','this is sentence two','this is sentence three']\n",
        "sents=[word_tokenize(sent) for sent in sents]\n",
        "print(sents)\n",
        "corpus=TextCollection(sents)\n",
        "print(corpus)\n",
        " \n",
        "tf=corpus.tf('one',corpus)\n",
        "print(tf)\n",
        " \n",
        "idf=corpus.idf('one')\n",
        "print(idf)\n",
        " \n",
        "tf_idf=corpus.tf_idf('one',corpus)\n",
        "print(tf_idf)"
      ],
      "execution_count": null,
      "outputs": [
        {
          "output_type": "stream",
          "text": [
            "[['this', 'is', 'sentence', 'one'], ['this', 'is', 'sentence', 'two'], ['this', 'is', 'sentence', 'three']]\n",
            "<Text: this is sentence one this is sentence two...>\n",
            "0.08333333333333333\n",
            "1.0986122886681098\n",
            "0.0915510240556758\n"
          ],
          "name": "stdout"
        }
      ]
    },
    {
      "cell_type": "markdown",
      "metadata": {
        "id": "w9n624C3yuML"
      },
      "source": [
        "### Sklearn implements TF-IDF algorithm"
      ]
    },
    {
      "cell_type": "code",
      "metadata": {
        "id": "3GfNfRBSyuMM",
        "outputId": "92169ae9-418e-45d1-b05a-99cc1266b71b"
      },
      "source": [
        "\n",
        "from sklearn.feature_extraction.text import CountVectorizer\n",
        "from sklearn.feature_extraction.text import TfidfTransformer\n",
        " \n",
        "x_train = ['The main idea of TF-IDF is that algorithm is an important feature that can be separated from the corpus background']\n",
        "x_test=['Original text marked ',' main idea']\n",
        " \n",
        "vectorizer = CountVectorizer(max_features=10)\n",
        "\n",
        "tf_idf_transformer = TfidfTransformer()\n",
        "\n",
        "tf_idf = tf_idf_transformer.fit_transform(vectorizer.fit_transform(x_train))\n",
        "\n",
        "x_train_weight = tf_idf.toarray()\n",
        " \n",
        "\n",
        "tf_idf = tf_idf_transformer.transform(vectorizer.transform(x_test))\n",
        "x_test_weight = tf_idf.toarray()\n",
        " \n",
        "print('Output x_train text vector：')\n",
        "print(x_train_weight)\n",
        "print('Output x_test text vector：')\n",
        "print(x_test_weight)"
      ],
      "execution_count": null,
      "outputs": [
        {
          "output_type": "stream",
          "text": [
            "Output x_train text vector：\n",
            "[[0.22941573 0.22941573 0.22941573 0.45883147 0.22941573 0.22941573\n",
            "  0.22941573 0.22941573 0.45883147 0.45883147]]\n",
            "Output x_test text vector：\n",
            "[[0. 0. 0. 0. 0. 0. 0. 0. 0. 0.]\n",
            " [0. 0. 0. 0. 1. 0. 0. 0. 0. 0.]]\n"
          ],
          "name": "stdout"
        }
      ]
    },
    {
      "cell_type": "code",
      "metadata": {
        "id": "UQe105WeyuMO"
      },
      "source": [
        "Keywords are words that can express the content of the center of a document.\n",
        "Information retrieval and system collection for reader review. Keyword extraction is a branch of the field of text mining.\n",
        "Basic work of text mining research such as document comparison, abstract generation, document classification and clustering"
      ],
      "execution_count": null,
      "outputs": []
    },
    {
      "cell_type": "markdown",
      "metadata": {
        "id": "qOCWnV-xyuMT"
      },
      "source": [
        "### Jieba implements TF-IDF algorithm"
      ]
    },
    {
      "cell_type": "code",
      "metadata": {
        "id": "tfac_ExTyuMU",
        "outputId": "2c8bed82-219f-4bd2-ce4e-b0341e66b998"
      },
      "source": [
        "\n",
        "import jieba.analyse\n",
        " \n",
        "text='Keywords are words that can express the content of the center of a document.Information retrieval and system collection for reader review. Keyword extraction is a branch of the field of text mining.Basic work of text mining research such as document comparison, abstract generation, document classification and clustering'\n",
        " \n",
        "keywords=jieba.analyse.extract_tags(text, topK=5, withWeight=False, allowPOS=())\n",
        "print(keywords)"
      ],
      "execution_count": null,
      "outputs": [
        {
          "output_type": "stream",
          "text": [
            "Building prefix dict from the default dictionary ...\n",
            "Loading model from cache C:\\Users\\soura\\AppData\\Local\\Temp\\jieba.cache\n",
            "Loading model cost 1.322 seconds.\n",
            "Prefix dict has been built successfully.\n"
          ],
          "name": "stderr"
        },
        {
          "output_type": "stream",
          "text": [
            "['document', 'text', 'mining', 'Keywords', 'words']\n"
          ],
          "name": "stdout"
        }
      ]
    },
    {
      "cell_type": "code",
      "metadata": {
        "id": "QnibpAlbyuMX"
      },
      "source": [],
      "execution_count": null,
      "outputs": []
    },
    {
      "cell_type": "markdown",
      "metadata": {
        "id": "39x0oBreyuMa"
      },
      "source": [
        "# n GRAM"
      ]
    },
    {
      "cell_type": "markdown",
      "metadata": {
        "id": "MIKOVLUfyuMa"
      },
      "source": [
        "**Wikipedia definition**: \n",
        "\n",
        "**In computational linguistics, n-gram refers to n consecutive items in the text (items can be phoneme, syllable, letter, word or base pairs)**\n",
        "\n",
        "N-grams of texts are widely used in the field of text mining and natural language processing. They are basically a set of co-occurring words within a defined window and when computing the n-grams, we typically move one word forward or more depending upon the scenario.\n",
        "\n",
        ">For example, for the sentence **“The cow jumps over the moon”**. If **N=2** (known as bigrams), then the ngrams would be:\n",
        "\n",
        "* the cow\n",
        "* cow jumps\n",
        "* jumps over\n",
        "* over the\n",
        "* the moon\n",
        "\n",
        "In n-gram, **n = 1 is unigram**, **n = 2 is bigram**, **n = 3 is trigram**. \n",
        "\n",
        "After **n> 4**, refer directly to numbers, such as **4-gram, 5-gram**.\n",
        "\n",
        "gram is often used to compare sentence similarity, fuzzy query, sentence rationality, sentence correction, etc.\n"
      ]
    },
    {
      "cell_type": "markdown",
      "metadata": {
        "id": "_Xs2QJmjyuMa"
      },
      "source": [
        "The n-gram can represent the semantic association reflected by the positional relationship between words. Before explaining the n-gram, we derive from the initial sentence probability.\n",
        "\n",
        "Suppose a sentence S is an ordered arrangement of n words, and is written as: ![title](img/gif.gif)\n",
        "\n",
        "\n",
        "We will abbreviate it as W_ {1} ^ {n}, then the probability of this sentence is: ![title](img/ng.gif)\n",
        "\n",
        "For a single probability, which means the probability that the word appears in the case given by the previous word, we can use Bayesian formula to get: ![title](img/ng1.gif)\n",
        "\n",
        "The last item is the frequency in the corpus. However, long sentences or text after depunctuation may be very long, and the words that are too early have a small impact on the prediction of the word, so we use Markov's hypothesis that the probability of taking the word depends only on the front of the word the n-1 words, this is the idea n-gram model.\n",
        "\n",
        "So the above formula becomes: ![title](img/ng2.gif)\n"
      ]
    },
    {
      "cell_type": "markdown",
      "metadata": {
        "id": "xdPjrowYyuMb"
      },
      "source": [
        "#### Determination of N in N-gram\n",
        "\n",
        "To confirm the value of N. \"Language Modeling with Ngrams\" uses the indicator **Perplexity**. The smaller the indicator, the better the effect of a language model. \n",
        "\n",
        ">The article uses a Wall Street Journal database with a dictionary size of 19,979. The training set contains 38 million words and the test set contains 1.5 million words. \n",
        "\n",
        "For different N-grams, calculate their respective purplexity.\n",
        "\n",
        "![title](img/formula.png)\n",
        "\n",
        "The results show that Tri-gram's Perplexity is the smallest, so it works best.\n",
        "![title](img/result.png)"
      ]
    },
    {
      "cell_type": "markdown",
      "metadata": {
        "id": "U8dpWgzryuMb"
      },
      "source": [
        "### Unigram Implementation"
      ]
    },
    {
      "cell_type": "code",
      "metadata": {
        "id": "3YLq3kK2yuMc",
        "outputId": "ecfa1476-a33b-415f-94ca-a965f01e71e1"
      },
      "source": [
        "import jieba\n",
        " \n",
        "text = \"I am going to the United States\"\n",
        "cut = jieba.cut(text)\n",
        "sent = list(cut)\n",
        "print(sent)"
      ],
      "execution_count": null,
      "outputs": [
        {
          "output_type": "stream",
          "text": [
            "['I', ' ', 'am', ' ', 'going', ' ', 'to', ' ', 'the', ' ', 'United', ' ', 'States']\n"
          ],
          "name": "stdout"
        }
      ]
    },
    {
      "cell_type": "markdown",
      "metadata": {
        "id": "K-ye2OG2yuMe"
      },
      "source": [
        "### Bigram Implementation"
      ]
    },
    {
      "cell_type": "code",
      "metadata": {
        "id": "pktQcu1tyuMf",
        "outputId": "7f7072f7-d0a2-4ed3-c608-9adcc9d7974c"
      },
      "source": [
        "Sent = \"I will go to United States\"\n",
        "lst_sent = Sent.split (\" \")\n",
        "of_bigrams_in = []\n",
        "for i in range(len(lst_sent)- 1):\n",
        "   of_bigrams_in.append(lst_sent[i]+ \" \" + lst_sent[ i + 1])\n",
        "   \n",
        "    \n",
        "print(of_bigrams_in)"
      ],
      "execution_count": null,
      "outputs": [
        {
          "output_type": "stream",
          "text": [
            "['I will', 'will go', 'go to', 'to United', 'United States']\n"
          ],
          "name": "stdout"
        }
      ]
    },
    {
      "cell_type": "markdown",
      "metadata": {
        "id": "cFklgTn9yuMi"
      },
      "source": [
        "### Trigram Implementation"
      ]
    },
    {
      "cell_type": "code",
      "metadata": {
        "id": "Fo-_ANz0yuMj"
      },
      "source": [
        "import re\n",
        "punctuation_pattern = re.compile(r\"\" \"[.,!? \"\"] \"\" \" )\n",
        "\n",
        "sent = \"I will go to United States\"\n",
        "no_punctuation_sent = re.sub(punctuation_pattern , \" \" , sent )\n",
        "lst_sent = no_punctuation_sent.split (\" \")\n",
        "trigram = []\n",
        "for i in range(len(lst_sent)- 2):\n",
        "   trigram.append(lst_sent[i] + \" \" + lst_sent[i + 1] + \" \" +lst_sent[i + 2])"
      ],
      "execution_count": null,
      "outputs": []
    },
    {
      "cell_type": "code",
      "metadata": {
        "id": "lKrjCaxTyuMl",
        "outputId": "3d7ac081-a5e8-42b6-a92d-8d487c6a0128"
      },
      "source": [
        "trigram"
      ],
      "execution_count": null,
      "outputs": [
        {
          "output_type": "execute_result",
          "data": {
            "text/plain": [
              "['I will go', 'will go to', 'go to United', 'to United States']"
            ]
          },
          "metadata": {
            "tags": []
          },
          "execution_count": 35
        }
      ]
    },
    {
      "cell_type": "markdown",
      "metadata": {
        "id": "pvpDZKy1yuMq"
      },
      "source": [
        "## Co-occurrence matrix"
      ]
    },
    {
      "cell_type": "markdown",
      "metadata": {
        "id": "hu6-40ZJyuMq"
      },
      "source": [
        ">The co-occurrence matrix is ​​also expressed by considering the relationship between words in the corpus."
      ]
    },
    {
      "cell_type": "markdown",
      "metadata": {
        "id": "EISAu7YcyuMr"
      },
      "source": [
        ">A very important idea is that we think that the meaning of a word is closely related to the word next to it. This is where we can set a window (the size is generally 5 ~ 10). The size of the window below is 2, so in this window, the words that appear with rests are life, he, in, and peace. Then we use this co-occurrence relationship to generate word vectors.\n"
      ]
    },
    {
      "cell_type": "markdown",
      "metadata": {
        "id": "gvezPK9PyuMs"
      },
      "source": [
        "![title](img/concurrence.jpg)"
      ]
    },
    {
      "cell_type": "markdown",
      "metadata": {
        "id": "0YarWzEPyuMs"
      },
      "source": [
        "For example, our corpus now includes the following three documents:\n",
        "\n",
        "#### I like deep learning.\n",
        "\n",
        "#### I like NLP.\n",
        "\n",
        "#### I enjoy flying.\n",
        "\n",
        "As an example, **we set the window size to 1**, which means that **we only look at the word immediately surrounding a word**. At this point, you will get a symmetric matrix-co-occurrence matrix. Because in our corpus, **the number of times I and like appear as neighbors in the window at the same time is 2**, the value where I and like intersect in the table below is 2. \n",
        "\n",
        "In this way, the idea of turning words into vectors is done. Each row (or each column) of the co-occurrence matrix is a vector representation of the corresponding word."
      ]
    },
    {
      "cell_type": "markdown",
      "metadata": {
        "id": "b8RAM0SjyuMs"
      },
      "source": [
        "![title](img/concur.jpg)"
      ]
    },
    {
      "cell_type": "markdown",
      "metadata": {
        "id": "R2ke8lX0yuMt"
      },
      "source": [
        ">Although the Cocurrence matrix solves the relative position between words to some extent, this problem should be paid attention to. But it still faces dimensional disaster. \n",
        "\n",
        ">In other words, the vector representation of a word is too long. At this time, it is natural to think of some common dimensionality reduction methods such as SVD or PCA.\n"
      ]
    },
    {
      "cell_type": "markdown",
      "metadata": {
        "id": "DReSxvyOyuMt"
      },
      "source": [
        ">The selection of the window size is the same as determining n in the n-gram. The size of the matrix will also increase when the window is enlarged, so it still has a large amount of calculation in nature, and the SVD algorithm has a large amount of calculation. If the text set is very More, it is not operable."
      ]
    },
    {
      "cell_type": "markdown",
      "metadata": {
        "id": "_Rtzkmq9yuMu"
      },
      "source": [
        "# GloVe"
      ]
    },
    {
      "cell_type": "markdown",
      "metadata": {
        "id": "-Mw2xbiuyuMu"
      },
      "source": [
        "**GloVe is an unsupervised learning algorithm for obtaining vocabulary vector representations. The aggregated global word co-occurrence statistics from the corpus are trained and the resulting representations show interesting linear substructures of the word vector space.**\n",
        "\n",
        "\n",
        "Official website homepage address: <a href=\"https://nlp.stanford.edu/projects/glove/\" target=\"_blank\">https://nlp.stanford.edu/projects/glove/</a>\n",
        "\n",
        "Github: <a href=\"https://github.com/stanfordnlp/GloVe\" target=\"_blank\">https://github.com/stanfordnlp/GloVe</a>\n",
        "\n",
        "Paper download address: <a href=\"https://nlp.stanford.edu/pubs/glove.pdf\" target=\"_blank\">https://nlp.stanford.edu/pubs/glove.pdf</a>"
      ]
    },
    {
      "cell_type": "markdown",
      "metadata": {
        "id": "nbAVxWGHyuMx"
      },
      "source": [
        "#### GloVe word vector format\n",
        "\n",
        "GloVe is a type of Word embedding. The format of the GloVe word vector and word2vec is a little different from the Stanford open source code training. **The first line of the model trained by word2vec is: thesaurus size and dimensions, while gloVe does not**\n",
        "\n",
        "Word2vec training format:\n",
        "\n",
        "    Size Dimension\n",
        "\n",
        "    Word1 vector1\n",
        "    Word2 vector1\n",
        "    ....\n",
        "    WordN vectorN\n",
        "    \n",
        "\n",
        "GloVe training format:\n",
        "\n",
        "\n",
        "    Word1 vector1\n",
        "    Word2 vector1\n",
        "    ....\n",
        "    WordN vectorN"
      ]
    },
    {
      "cell_type": "markdown",
      "metadata": {
        "id": "Th6C8UCsyuMy"
      },
      "source": [
        ">Therefore, we use the model trained by Glove to add a line of Vocabulary Size in front, and the model is used in the same way as word2vec. The official website provides a lot of word vector models trained using thesaurus, which can be downloaded and used directly."
      ]
    },
    {
      "cell_type": "markdown",
      "metadata": {
        "id": "ru8DqzT0yuMz"
      },
      "source": [
        "![title](img/glove.png)"
      ]
    },
    {
      "cell_type": "code",
      "metadata": {
        "id": "7cWwn6bWyuMz"
      },
      "source": [],
      "execution_count": null,
      "outputs": []
    }
  ]
}